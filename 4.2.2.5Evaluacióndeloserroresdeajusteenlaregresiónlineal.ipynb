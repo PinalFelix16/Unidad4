{
 "cells": [
  {
   "cell_type": "markdown",
   "id": "b6e6eb8a",
   "metadata": {},
   "source": [
    "# Práctica de laboratorio: evaluación de los errores de ajuste en la regresión lineal\n",
    "\n",
    "## Parte 1: Importe las bibliotecas y los datos\n",
    "\n",
    "En esta parte, importará las bibliotecas y los datos del archivo stores-dist.csv.\n",
    "Paso 1: Importe las bibliotecas.\n",
    "\n",
    "En este paso, importará las bibliotecas siguientes:\n",
    "\n",
    "    numpy como np\n",
    "    pandas como pd\n",
    "\n"
   ]
  },
  {
   "cell_type": "code",
   "execution_count": 1,
   "id": "851e695c",
   "metadata": {},
   "outputs": [
    {
     "ename": "ImportError",
     "evalue": "cannot import name 'cross_validation' from 'sklearn' (C:\\Users\\inkar\\Anaconda3\\lib\\site-packages\\sklearn\\__init__.py)",
     "output_type": "error",
     "traceback": [
      "\u001b[1;31m---------------------------------------------------------------------------\u001b[0m",
      "\u001b[1;31mImportError\u001b[0m                               Traceback (most recent call last)",
      "Input \u001b[1;32mIn [1]\u001b[0m, in \u001b[0;36m<cell line: 14>\u001b[1;34m()\u001b[0m\n\u001b[0;32m     11\u001b[0m \u001b[38;5;28;01mimport\u001b[39;00m \u001b[38;5;21;01mpandas\u001b[39;00m \u001b[38;5;28;01mas\u001b[39;00m \u001b[38;5;21;01mpd\u001b[39;00m\n\u001b[0;32m     12\u001b[0m \u001b[38;5;28;01mimport\u001b[39;00m \u001b[38;5;21;01mnumpy\u001b[39;00m \u001b[38;5;28;01mas\u001b[39;00m \u001b[38;5;21;01mnp\u001b[39;00m\n\u001b[1;32m---> 14\u001b[0m \u001b[38;5;28;01mfrom\u001b[39;00m \u001b[38;5;21;01msklearn\u001b[39;00m \u001b[38;5;28;01mimport\u001b[39;00m cross_validation\n\u001b[0;32m     15\u001b[0m \u001b[38;5;28;01mfrom\u001b[39;00m \u001b[38;5;21;01msklearn\u001b[39;00m\u001b[38;5;21;01m.\u001b[39;00m\u001b[38;5;21;01mlinear_model\u001b[39;00m \u001b[38;5;28;01mimport\u001b[39;00m LinearRegression\n",
      "\u001b[1;31mImportError\u001b[0m: cannot import name 'cross_validation' from 'sklearn' (C:\\Users\\inkar\\Anaconda3\\lib\\site-packages\\sklearn\\__init__.py)"
     ]
    }
   ],
   "source": [
    "# Code Cell 1\n",
    "# This lab produces some minor warnings that can be ignored.\n",
    "# These warnings appear because some libraries are updated more often than others\n",
    "# and the system is letting the user know that some function will be depricated soon\n",
    "# Use the following code to prevent the warnings from being displayed, or comment them out\n",
    "# to see the warnings\n",
    "import warnings\n",
    "warnings.filterwarnings('ignore')\n",
    "\n",
    "# Import numpy and pandas\n",
    "import pandas as pd\n",
    "import numpy as np\n",
    "\n",
    "from sklearn import cross_validation\n",
    "from sklearn.linear_model import LinearRegression"
   ]
  },
  {
   "cell_type": "markdown",
   "id": "41ba23fb",
   "metadata": {},
   "source": [
    "\n",
    "## Paso 2: Importe los datos.\n",
    "\n",
    "En este paso, importará los datos del archivo stores-dist.csv, cambiará los encabezados de las columnas y verificará que el archivo se haya importado correctamente.\n",
    "\n",
    "Los encabezados de las columnas ventas netas anuales y número de tiendas en el distrito se renombran para facilitar el procesamiento de los datos.\n",
    "\n",
    "    ventas netas anuales a ventas\n",
    "    número de tiendas en el distrito a tiendas\n",
    "\n"
   ]
  },
  {
   "cell_type": "code",
   "execution_count": 3,
   "id": "c28f59a9",
   "metadata": {},
   "outputs": [
    {
     "data": {
      "text/html": [
       "<div>\n",
       "<style scoped>\n",
       "    .dataframe tbody tr th:only-of-type {\n",
       "        vertical-align: middle;\n",
       "    }\n",
       "\n",
       "    .dataframe tbody tr th {\n",
       "        vertical-align: top;\n",
       "    }\n",
       "\n",
       "    .dataframe thead th {\n",
       "        text-align: right;\n",
       "    }\n",
       "</style>\n",
       "<table border=\"1\" class=\"dataframe\">\n",
       "  <thead>\n",
       "    <tr style=\"text-align: right;\">\n",
       "      <th></th>\n",
       "      <th>district</th>\n",
       "      <th>sales</th>\n",
       "      <th>stores</th>\n",
       "    </tr>\n",
       "  </thead>\n",
       "  <tbody>\n",
       "    <tr>\n",
       "      <th>0</th>\n",
       "      <td>1</td>\n",
       "      <td>231.0</td>\n",
       "      <td>12</td>\n",
       "    </tr>\n",
       "    <tr>\n",
       "      <th>1</th>\n",
       "      <td>2</td>\n",
       "      <td>156.0</td>\n",
       "      <td>13</td>\n",
       "    </tr>\n",
       "    <tr>\n",
       "      <th>2</th>\n",
       "      <td>3</td>\n",
       "      <td>10.0</td>\n",
       "      <td>16</td>\n",
       "    </tr>\n",
       "    <tr>\n",
       "      <th>3</th>\n",
       "      <td>4</td>\n",
       "      <td>519.0</td>\n",
       "      <td>2</td>\n",
       "    </tr>\n",
       "    <tr>\n",
       "      <th>4</th>\n",
       "      <td>5</td>\n",
       "      <td>437.0</td>\n",
       "      <td>6</td>\n",
       "    </tr>\n",
       "  </tbody>\n",
       "</table>\n",
       "</div>"
      ],
      "text/plain": [
       "   district  sales  stores\n",
       "0         1  231.0      12\n",
       "1         2  156.0      13\n",
       "2         3   10.0      16\n",
       "3         4  519.0       2\n",
       "4         5  437.0       6"
      ]
     },
     "execution_count": 3,
     "metadata": {},
     "output_type": "execute_result"
    }
   ],
   "source": [
    "# Code Cell 2\n",
    "\n",
    "# Import the file stores-dist.txt\n",
    "salesDist = pd.read_csv('C:/Users/inkar/Analítica de datos en las organizaciones/Data/stores-dist.csv')\n",
    "\n",
    "# Change the column headings\n",
    "salesDist.columns = ['district','sales','stores']\n",
    "\n",
    "# Verify the imported data\n",
    "salesDist.head()"
   ]
  },
  {
   "cell_type": "markdown",
   "id": "5bf8dfc9",
   "metadata": {},
   "source": [
    "La columna cdistrict no es necesaria para la evaluación del ajuste de la regresión lineal; por lo tanto, esta columna puede descartarse."
   ]
  },
  {
   "cell_type": "code",
   "execution_count": 4,
   "id": "f10c8810",
   "metadata": {},
   "outputs": [
    {
     "data": {
      "text/html": [
       "<div>\n",
       "<style scoped>\n",
       "    .dataframe tbody tr th:only-of-type {\n",
       "        vertical-align: middle;\n",
       "    }\n",
       "\n",
       "    .dataframe tbody tr th {\n",
       "        vertical-align: top;\n",
       "    }\n",
       "\n",
       "    .dataframe thead th {\n",
       "        text-align: right;\n",
       "    }\n",
       "</style>\n",
       "<table border=\"1\" class=\"dataframe\">\n",
       "  <thead>\n",
       "    <tr style=\"text-align: right;\">\n",
       "      <th></th>\n",
       "      <th>sales</th>\n",
       "      <th>stores</th>\n",
       "    </tr>\n",
       "  </thead>\n",
       "  <tbody>\n",
       "    <tr>\n",
       "      <th>0</th>\n",
       "      <td>231.0</td>\n",
       "      <td>12</td>\n",
       "    </tr>\n",
       "    <tr>\n",
       "      <th>1</th>\n",
       "      <td>156.0</td>\n",
       "      <td>13</td>\n",
       "    </tr>\n",
       "    <tr>\n",
       "      <th>2</th>\n",
       "      <td>10.0</td>\n",
       "      <td>16</td>\n",
       "    </tr>\n",
       "    <tr>\n",
       "      <th>3</th>\n",
       "      <td>519.0</td>\n",
       "      <td>2</td>\n",
       "    </tr>\n",
       "    <tr>\n",
       "      <th>4</th>\n",
       "      <td>437.0</td>\n",
       "      <td>6</td>\n",
       "    </tr>\n",
       "  </tbody>\n",
       "</table>\n",
       "</div>"
      ],
      "text/plain": [
       "   sales  stores\n",
       "0  231.0      12\n",
       "1  156.0      13\n",
       "2   10.0      16\n",
       "3  519.0       2\n",
       "4  437.0       6"
      ]
     },
     "execution_count": 4,
     "metadata": {},
     "output_type": "execute_result"
    }
   ],
   "source": [
    "# Code Cell 3\n",
    "# Drop the district column.\n",
    "sales = salesDist.drop('district',axis=1)\n",
    "\n",
    "# Verify that the district column has been dropped.\n",
    "sales.head()"
   ]
  },
  {
   "cell_type": "markdown",
   "id": "4664e4d3",
   "metadata": {},
   "source": [
    "## Parte 2: Cálculo de errores\n",
    "\n",
    "En esta parte, utilizará numpy para generar una línea de regresión para los datos analizados. También calculará el centroide para este conjunto de datos. El centroide es la media del conjunto de datos. La línea de regresión lineal simple generada también debe atravesar el centroide.\n",
    "\n",
    "También utilizará sklearn.metrics para evaluar el modelo de regresión lineal. Calculará la puntuación R2\n",
    "\n",
    "y el error medio cuadrático (MSE).\n",
    "### Paso 1: Asigne las variables x e y.\n",
    "\n",
    "Asigne las ventas del marco de datos como la variable dependiente y\n",
    "y las tiendas del marco de datos como la variable independiente para el eje x."
   ]
  },
  {
   "cell_type": "code",
   "execution_count": 6,
   "id": "72322d6f",
   "metadata": {},
   "outputs": [],
   "source": [
    "# Code Cell 4\n",
    "#dependent variable for y axis\n",
    "y = sales.sales \n",
    "#independent variable for x axis\n",
    "x = sales.stores"
   ]
  },
  {
   "cell_type": "markdown",
   "id": "ec48169b",
   "metadata": {},
   "source": [
    "\n",
    "## Paso 2: Calcule los valores de y en el modelo\n",
    "\n",
    "En la práctica de laboratorio anterior, calculó los componentes para el ajuste de la regresión lineal con un modelo polinomial mediante np.polyfit para calcular el vector de los coeficientes p que minimiza el error cuadrático. Mediante np.poly1d, puede calcular el valor correspondiente para cada valor de x en el modelo polinomial estimado.\n",
    "\n",
    "Para recuperar la pendiente y la intersección y de la línea, utilice la variable p. La matriz p muestra el coeficiente en un orden descendente. Para un polinomio de primer orden, el primer coeficiente es la pendiente (m) y el segundo coeficiente es la intersección y (b).\n"
   ]
  },
  {
   "cell_type": "code",
   "execution_count": 7,
   "id": "279205f8",
   "metadata": {},
   "outputs": [
    {
     "name": "stdout",
     "output_type": "stream",
     "text": [
      "The array p(x) stores the calculated y value from the polynomial model for each x value,\n",
      "\n",
      "[169.93468442 134.14759895  26.78634257 527.80553905 384.65719719\n",
      " 420.44428266 205.72176988 134.14759895  26.78634257 277.29594081\n",
      " 527.80553905 313.08302627 456.23136812  62.57342803 169.93468442\n",
      " 205.72176988 420.44428266  98.36051349 313.08302627 527.80553905\n",
      " 563.59262451  62.57342803 134.14759895 348.87011173 384.65719719\n",
      " 563.59262451 277.29594081].\n",
      "\n",
      "The vector of coefficients p describes this regression model:\n",
      " \n",
      "-35.79 x + 599.4\n",
      "\n",
      "The zeroth order term (y-intercept or b) is stored in p[0]: 599.3797099726614.\n",
      "\n",
      "The first order term (slope or m) is stored in p[1]: -35.787085462974005.\n"
     ]
    }
   ],
   "source": [
    "# Code Cell 5\n",
    "# compute the y values from the polynomial model for each x value\n",
    "order = 1\n",
    "p = np.poly1d(np.polyfit(x, y ,order))\n",
    "\n",
    "print('The array p(x) stores the calculated y value from the polynomial model for each x value,\\n\\n{}.'.format(p(x)))\n",
    "print('\\nThe vector of coefficients p describes this regression model:\\n{}'.format(p))\n",
    "print('\\nThe zeroth order term (y-intercept or b) is stored in p[0]: {}.'.format(p[0]))\n",
    "print('\\nThe first order term (slope or m) is stored in p[1]: {}.'.format(p[1]))"
   ]
  },
  {
   "cell_type": "markdown",
   "id": "20008dd9",
   "metadata": {},
   "source": [
    "### Paso 3: Utilice diversas medidas para evaluar los modelos.\n",
    "\n",
    "En este paso, utilizará sklearn para evaluar los modelos. Sklean ofrece una variedad de medidas. Calculará la puntuación R2\n",
    "\n",
    ", el error medio cuadrático (MSE) y el error medio absoluto (MAE) con las funciones en sklearn.\n",
    "\n",
    "Para calcular el valor para cada medida, indique los valores de y, que son los valores obtenidos del archivo csv importado, stores-dist.csv como el primer argumento. Como segundo argumento, utilice los valores de p(x), que se calcularon de su modelo polinomial de primer orden en la siguiente forma:\n",
    "y=mx+b\n",
    "\n",
    "donde m es p[1] y b es p[0] en los resultados de poly1d.\n",
    "\n",
    "La función de puntuación de regresión R2\n",
    "(coeficiente de determinación) ofrece cierta información sobre la cantidad de ajuste del modelo. La mejor puntuación para R2 es 1,0. Esta puntuación indica qué tan bien explica el modelo el resultado obtenido."
   ]
  },
  {
   "cell_type": "code",
   "execution_count": 8,
   "id": "912be851",
   "metadata": {},
   "outputs": [
    {
     "data": {
      "text/plain": [
       "0.83217523508888"
      ]
     },
     "execution_count": 8,
     "metadata": {},
     "output_type": "execute_result"
    }
   ],
   "source": [
    "# Code Cell 6\n",
    "from sklearn.metrics import r2_score\n",
    "r2 = r2_score(y, p(x))\n",
    "r2"
   ]
  },
  {
   "cell_type": "markdown",
   "id": "adbd420b",
   "metadata": {},
   "source": [
    "El error medio cuadrático (MSE) es una medida de qué tan bien se puede usar el modelo para realizar una predicción. Este número siempre es no negativo. Los mejores valores se encuentran más cercanos a cero.\n"
   ]
  },
  {
   "cell_type": "code",
   "execution_count": 9,
   "id": "bdc4854c",
   "metadata": {},
   "outputs": [
    {
     "data": {
      "text/plain": [
       "5961.386465941158"
      ]
     },
     "execution_count": 9,
     "metadata": {},
     "output_type": "execute_result"
    }
   ],
   "source": [
    "# Code Cell 7\n",
    "from sklearn.metrics import mean_squared_error\n",
    "mse = mean_squared_error(y, p(x))\n",
    "mse"
   ]
  },
  {
   "cell_type": "markdown",
   "id": "5e34c344",
   "metadata": {},
   "source": [
    "El error medio absoluto (MAE) es una medida de cuánto se acercan las predicciones a los resultados eventuales. El MAE es un promedio de los errores absolutos entre la predicción y el verdadero valor."
   ]
  },
  {
   "cell_type": "code",
   "execution_count": 10,
   "id": "62389457",
   "metadata": {},
   "outputs": [
    {
     "data": {
      "text/plain": [
       "61.2232611786873"
      ]
     },
     "execution_count": 10,
     "metadata": {},
     "output_type": "execute_result"
    }
   ],
   "source": [
    "# Code Cell 8\n",
    "from sklearn.metrics import mean_absolute_error\n",
    "mae = mean_absolute_error(y, p(x))\n",
    "mae"
   ]
  },
  {
   "cell_type": "markdown",
   "id": "a48c6aae",
   "metadata": {},
   "source": [
    "Todas estas medidas permiten que determine qué tan bien puede su modelo hacer la predicción. En esta práctica de laboratorio, se evaluó sólo un modelo, regresión lineal simple."
   ]
  },
  {
   "cell_type": "code",
   "execution_count": null,
   "id": "fb75aa90",
   "metadata": {},
   "outputs": [],
   "source": []
  }
 ],
 "metadata": {
  "kernelspec": {
   "display_name": "Python 3 (ipykernel)",
   "language": "python",
   "name": "python3"
  },
  "language_info": {
   "codemirror_mode": {
    "name": "ipython",
    "version": 3
   },
   "file_extension": ".py",
   "mimetype": "text/x-python",
   "name": "python",
   "nbconvert_exporter": "python",
   "pygments_lexer": "ipython3",
   "version": "3.9.12"
  }
 },
 "nbformat": 4,
 "nbformat_minor": 5
}
