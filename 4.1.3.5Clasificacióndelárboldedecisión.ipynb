{
 "cells": [
  {
   "cell_type": "markdown",
   "id": "2b0123b6",
   "metadata": {},
   "source": [
    "# Práctica de laboratorio 4.1.3.6: Clasificación del árbol de decisiones\n",
    "\n",
    "Parte 1: Crear un clasificador de árbol de decisiones\n",
    "\n",
    "En esta práctica de laboratorio creará un clasificador de árbol de decisiones que captará información de un conjunto de datos rotulado.\n",
    "\n",
    "El conjunto de datos contiene los nombres y los datos demográficos de todos los pasajeros. Además, se incluyen los detalles de viaje de los pasajeros. De estos datos, podemos crear un árbol de decisiones que ilustre los factores que contribuyeron a la supervivencia, o a la falta de ella, en el viaje.\n",
    "\n",
    "Los conjuntos de datos contienen las siguientes variables:\n",
    "Variable \tDescripción\n",
    "1. PassengerID \tIdentificación única para todos los pasajeros\n",
    "2. Survival \t¿El pasajero sobrevivió? (0 = No; 1 = Sí)\n",
    "3. Pclass \tClase de ticket del pasajero. (1 = 1º; 2 = 2º; 3 = 3º)\n",
    "4. Nombre \tNombre del pasajero. (apellido, nombre)\n",
    "5. Género \tMale o female\n",
    "6. Edad \tEdad en años. Principalmente números enteros con valores flotantes para niños menores de un año.\n",
    "7. SibSp \tCantidad de hermanos o cónyuge a bordo.\n",
    "8. Parch \tCantidad de padres o niños a bordo.\n",
    "9. Ticket \tNúmero de ticket\n",
    "10. Fare \tLa tarifa abonada por ticket en libras esterlinas antes de 1970\n",
    "11. Cabin \tNúmero de cabina\n",
    "12. Embarked \tPuerto de embarque (C = Cherbourg; Q= Queenstown; S = Southampton)\n",
    "\n",
    "Con los datos de arriba, ¿qué tipos de preguntas podemos hacer acerca de los factores que contribuyeron a que los pasajeros sobrevivan o fallecieran en la catástrofe del Titanic?\n",
    "\n",
    "### Escriba sus respuestas aquí\n",
    "### Paso 1: Crear la estructura de datos\n",
    "a) Importe pandas y el archivo csv\n",
    "\n",
    "Primero, importe pandas y cree una estructura de datos del conjunto de datos de entrenamiento del Titanic, que se encuentra en el archivo titanic-train.csv.titanic-train.csv. Siga el método pd.read_csv().\n"
   ]
  },
  {
   "cell_type": "code",
   "execution_count": 1,
   "id": "e17ad10b",
   "metadata": {},
   "outputs": [],
   "source": [
    "#Code cell 1\n",
    "#import pandas\n",
    "import pandas as pd\n",
    "\n",
    "#create a pandas dataframe called \"training\" from the titanic-train.csv file\n",
    "training = pd.read_csv(\"C:/Users/inkar/Analítica de datos en las organizaciones/Data/titanic-train.csv\")"
   ]
  },
  {
   "cell_type": "markdown",
   "id": "87753881",
   "metadata": {},
   "source": [
    "b) Verifique la importación y analice los datos¶"
   ]
  },
  {
   "cell_type": "code",
   "execution_count": 2,
   "id": "9c95179d",
   "metadata": {},
   "outputs": [
    {
     "name": "stdout",
     "output_type": "stream",
     "text": [
      "<class 'pandas.core.frame.DataFrame'>\n",
      "RangeIndex: 915 entries, 0 to 914\n",
      "Data columns (total 12 columns):\n",
      " #   Column       Non-Null Count  Dtype  \n",
      "---  ------       --------------  -----  \n",
      " 0   PassengerId  915 non-null    int64  \n",
      " 1   Survived     915 non-null    int64  \n",
      " 2   Pclass       915 non-null    int64  \n",
      " 3   Name         915 non-null    object \n",
      " 4   Gender       915 non-null    object \n",
      " 5   Age          738 non-null    float64\n",
      " 6   SibSp        915 non-null    int64  \n",
      " 7   Parch        915 non-null    int64  \n",
      " 8   Ticket       915 non-null    object \n",
      " 9   Fare         915 non-null    float64\n",
      " 10  Cabin        202 non-null    object \n",
      " 11  Embarked     914 non-null    object \n",
      "dtypes: float64(2), int64(5), object(5)\n",
      "memory usage: 85.9+ KB\n"
     ]
    }
   ],
   "source": [
    "#Code cell 2\n",
    "#verify the contents of the training dataframe using the pandas info() method.\n",
    "training.info()"
   ]
  },
  {
   "cell_type": "markdown",
   "id": "b496d8e1",
   "metadata": {},
   "source": [
    "¿Faltan valores en el conjunto de datos?\n",
    "\n",
    "Escriba sus respuestas aquí\n"
   ]
  },
  {
   "cell_type": "code",
   "execution_count": 3,
   "id": "4b3d049e",
   "metadata": {},
   "outputs": [
    {
     "data": {
      "text/html": [
       "<div>\n",
       "<style scoped>\n",
       "    .dataframe tbody tr th:only-of-type {\n",
       "        vertical-align: middle;\n",
       "    }\n",
       "\n",
       "    .dataframe tbody tr th {\n",
       "        vertical-align: top;\n",
       "    }\n",
       "\n",
       "    .dataframe thead th {\n",
       "        text-align: right;\n",
       "    }\n",
       "</style>\n",
       "<table border=\"1\" class=\"dataframe\">\n",
       "  <thead>\n",
       "    <tr style=\"text-align: right;\">\n",
       "      <th></th>\n",
       "      <th>PassengerId</th>\n",
       "      <th>Survived</th>\n",
       "      <th>Pclass</th>\n",
       "      <th>Name</th>\n",
       "      <th>Gender</th>\n",
       "      <th>Age</th>\n",
       "      <th>SibSp</th>\n",
       "      <th>Parch</th>\n",
       "      <th>Ticket</th>\n",
       "      <th>Fare</th>\n",
       "      <th>Cabin</th>\n",
       "      <th>Embarked</th>\n",
       "    </tr>\n",
       "  </thead>\n",
       "  <tbody>\n",
       "    <tr>\n",
       "      <th>0</th>\n",
       "      <td>1</td>\n",
       "      <td>0</td>\n",
       "      <td>1</td>\n",
       "      <td>Davidson, Mr. Thornton</td>\n",
       "      <td>male</td>\n",
       "      <td>31.0</td>\n",
       "      <td>1</td>\n",
       "      <td>0</td>\n",
       "      <td>F.C. 12750</td>\n",
       "      <td>52.0000</td>\n",
       "      <td>B71</td>\n",
       "      <td>S</td>\n",
       "    </tr>\n",
       "    <tr>\n",
       "      <th>1</th>\n",
       "      <td>2</td>\n",
       "      <td>0</td>\n",
       "      <td>3</td>\n",
       "      <td>Asim, Mr. Adola</td>\n",
       "      <td>male</td>\n",
       "      <td>35.0</td>\n",
       "      <td>0</td>\n",
       "      <td>0</td>\n",
       "      <td>SOTON/O.Q. 3101310</td>\n",
       "      <td>7.0500</td>\n",
       "      <td>NaN</td>\n",
       "      <td>S</td>\n",
       "    </tr>\n",
       "    <tr>\n",
       "      <th>2</th>\n",
       "      <td>3</td>\n",
       "      <td>0</td>\n",
       "      <td>3</td>\n",
       "      <td>Nankoff, Mr. Minko</td>\n",
       "      <td>male</td>\n",
       "      <td>NaN</td>\n",
       "      <td>0</td>\n",
       "      <td>0</td>\n",
       "      <td>349218</td>\n",
       "      <td>7.8958</td>\n",
       "      <td>NaN</td>\n",
       "      <td>S</td>\n",
       "    </tr>\n",
       "    <tr>\n",
       "      <th>3</th>\n",
       "      <td>4</td>\n",
       "      <td>0</td>\n",
       "      <td>1</td>\n",
       "      <td>Thayer, Mr. John Borland</td>\n",
       "      <td>male</td>\n",
       "      <td>49.0</td>\n",
       "      <td>1</td>\n",
       "      <td>1</td>\n",
       "      <td>17421</td>\n",
       "      <td>110.8833</td>\n",
       "      <td>C68</td>\n",
       "      <td>C</td>\n",
       "    </tr>\n",
       "    <tr>\n",
       "      <th>4</th>\n",
       "      <td>5</td>\n",
       "      <td>0</td>\n",
       "      <td>3</td>\n",
       "      <td>Strandberg, Miss. Ida Sofia</td>\n",
       "      <td>female</td>\n",
       "      <td>22.0</td>\n",
       "      <td>0</td>\n",
       "      <td>0</td>\n",
       "      <td>7553</td>\n",
       "      <td>9.8375</td>\n",
       "      <td>NaN</td>\n",
       "      <td>S</td>\n",
       "    </tr>\n",
       "  </tbody>\n",
       "</table>\n",
       "</div>"
      ],
      "text/plain": [
       "   PassengerId  Survived  Pclass                         Name  Gender   Age  \\\n",
       "0            1         0       1       Davidson, Mr. Thornton    male  31.0   \n",
       "1            2         0       3              Asim, Mr. Adola    male  35.0   \n",
       "2            3         0       3           Nankoff, Mr. Minko    male   NaN   \n",
       "3            4         0       1     Thayer, Mr. John Borland    male  49.0   \n",
       "4            5         0       3  Strandberg, Miss. Ida Sofia  female  22.0   \n",
       "\n",
       "   SibSp  Parch              Ticket      Fare Cabin Embarked  \n",
       "0      1      0          F.C. 12750   52.0000   B71        S  \n",
       "1      0      0  SOTON/O.Q. 3101310    7.0500   NaN        S  \n",
       "2      0      0              349218    7.8958   NaN        S  \n",
       "3      1      1               17421  110.8833   C68        C  \n",
       "4      0      0                7553    9.8375   NaN        S  "
      ]
     },
     "execution_count": 3,
     "metadata": {},
     "output_type": "execute_result"
    }
   ],
   "source": [
    "#Code cell 3\n",
    "#view the first few rows of the data\n",
    "training.head()"
   ]
  },
  {
   "cell_type": "markdown",
   "id": "38e27355",
   "metadata": {},
   "source": [
    "### Paso 2: Preparar los datos para el modelo de árbol de decisiones\n",
    "a) Reemplace los datos de la cadena por etiquetas numéricas\n",
    "\n",
    "Utilizaremos scikit-learn para crear árboles de decisiones. El modelo del árbol de decisiones que utilizaremos solo puede administrar datos numéricos. Los valores para la variable Gender (Género) se deben transformarse en representaciones numéricas. 0 se utilizará para representar el valor \"masculino\" y 1 para el valor \"femenino\".\n",
    "\n",
    "En este código, se utiliza una expresión lambda con el método de estructura de datos apply(). Esta expresión lambda representa una característica que utiliza una instrucción condicional para reemplazar los valores de texto de las columnas por el valor numérico correspondiente. La instrucción de la lambda se puede interpretar de la siguiente manera: \"Si el parámetro toLabel es ‘male’, colocar 0; si el valor es otro, colocar 1\". El método apply() ejecutará esta función en los valores de cada fila de la columna \"Gender\" de la estructura de datos.\n"
   ]
  },
  {
   "cell_type": "code",
   "execution_count": 4,
   "id": "96cceaa0",
   "metadata": {},
   "outputs": [],
   "source": [
    "#code cell 4\n",
    "training[\"Gender\"] = training[\"Gender\"].apply(lambda toLabel: 0 if toLabel == 'male' else 1)"
   ]
  },
  {
   "cell_type": "markdown",
   "id": "51155d0e",
   "metadata": {},
   "source": [
    "\n",
    "### b) Verifique que la variable Gender haya cambiado.\n",
    "\n",
    "El resultado debe mostrar valores de 0 o 1 para la variable Gender en el conjunto de datos.\n"
   ]
  },
  {
   "cell_type": "code",
   "execution_count": 5,
   "id": "90a22e8e",
   "metadata": {},
   "outputs": [
    {
     "data": {
      "text/html": [
       "<div>\n",
       "<style scoped>\n",
       "    .dataframe tbody tr th:only-of-type {\n",
       "        vertical-align: middle;\n",
       "    }\n",
       "\n",
       "    .dataframe tbody tr th {\n",
       "        vertical-align: top;\n",
       "    }\n",
       "\n",
       "    .dataframe thead th {\n",
       "        text-align: right;\n",
       "    }\n",
       "</style>\n",
       "<table border=\"1\" class=\"dataframe\">\n",
       "  <thead>\n",
       "    <tr style=\"text-align: right;\">\n",
       "      <th></th>\n",
       "      <th>PassengerId</th>\n",
       "      <th>Survived</th>\n",
       "      <th>Pclass</th>\n",
       "      <th>Name</th>\n",
       "      <th>Gender</th>\n",
       "      <th>Age</th>\n",
       "      <th>SibSp</th>\n",
       "      <th>Parch</th>\n",
       "      <th>Ticket</th>\n",
       "      <th>Fare</th>\n",
       "      <th>Cabin</th>\n",
       "      <th>Embarked</th>\n",
       "    </tr>\n",
       "  </thead>\n",
       "  <tbody>\n",
       "    <tr>\n",
       "      <th>0</th>\n",
       "      <td>1</td>\n",
       "      <td>0</td>\n",
       "      <td>1</td>\n",
       "      <td>Davidson, Mr. Thornton</td>\n",
       "      <td>0</td>\n",
       "      <td>31.0</td>\n",
       "      <td>1</td>\n",
       "      <td>0</td>\n",
       "      <td>F.C. 12750</td>\n",
       "      <td>52.0000</td>\n",
       "      <td>B71</td>\n",
       "      <td>S</td>\n",
       "    </tr>\n",
       "    <tr>\n",
       "      <th>1</th>\n",
       "      <td>2</td>\n",
       "      <td>0</td>\n",
       "      <td>3</td>\n",
       "      <td>Asim, Mr. Adola</td>\n",
       "      <td>0</td>\n",
       "      <td>35.0</td>\n",
       "      <td>0</td>\n",
       "      <td>0</td>\n",
       "      <td>SOTON/O.Q. 3101310</td>\n",
       "      <td>7.0500</td>\n",
       "      <td>NaN</td>\n",
       "      <td>S</td>\n",
       "    </tr>\n",
       "    <tr>\n",
       "      <th>2</th>\n",
       "      <td>3</td>\n",
       "      <td>0</td>\n",
       "      <td>3</td>\n",
       "      <td>Nankoff, Mr. Minko</td>\n",
       "      <td>0</td>\n",
       "      <td>NaN</td>\n",
       "      <td>0</td>\n",
       "      <td>0</td>\n",
       "      <td>349218</td>\n",
       "      <td>7.8958</td>\n",
       "      <td>NaN</td>\n",
       "      <td>S</td>\n",
       "    </tr>\n",
       "    <tr>\n",
       "      <th>3</th>\n",
       "      <td>4</td>\n",
       "      <td>0</td>\n",
       "      <td>1</td>\n",
       "      <td>Thayer, Mr. John Borland</td>\n",
       "      <td>0</td>\n",
       "      <td>49.0</td>\n",
       "      <td>1</td>\n",
       "      <td>1</td>\n",
       "      <td>17421</td>\n",
       "      <td>110.8833</td>\n",
       "      <td>C68</td>\n",
       "      <td>C</td>\n",
       "    </tr>\n",
       "    <tr>\n",
       "      <th>4</th>\n",
       "      <td>5</td>\n",
       "      <td>0</td>\n",
       "      <td>3</td>\n",
       "      <td>Strandberg, Miss. Ida Sofia</td>\n",
       "      <td>1</td>\n",
       "      <td>22.0</td>\n",
       "      <td>0</td>\n",
       "      <td>0</td>\n",
       "      <td>7553</td>\n",
       "      <td>9.8375</td>\n",
       "      <td>NaN</td>\n",
       "      <td>S</td>\n",
       "    </tr>\n",
       "  </tbody>\n",
       "</table>\n",
       "</div>"
      ],
      "text/plain": [
       "   PassengerId  Survived  Pclass                         Name  Gender   Age  \\\n",
       "0            1         0       1       Davidson, Mr. Thornton       0  31.0   \n",
       "1            2         0       3              Asim, Mr. Adola       0  35.0   \n",
       "2            3         0       3           Nankoff, Mr. Minko       0   NaN   \n",
       "3            4         0       1     Thayer, Mr. John Borland       0  49.0   \n",
       "4            5         0       3  Strandberg, Miss. Ida Sofia       1  22.0   \n",
       "\n",
       "   SibSp  Parch              Ticket      Fare Cabin Embarked  \n",
       "0      1      0          F.C. 12750   52.0000   B71        S  \n",
       "1      0      0  SOTON/O.Q. 3101310    7.0500   NaN        S  \n",
       "2      0      0              349218    7.8958   NaN        S  \n",
       "3      1      1               17421  110.8833   C68        C  \n",
       "4      0      0                7553    9.8375   NaN        S  "
      ]
     },
     "execution_count": 5,
     "metadata": {},
     "output_type": "execute_result"
    }
   ],
   "source": [
    "#code cell 5\n",
    "#view the first few rows of the data again\n",
    "training.head()"
   ]
  },
  {
   "cell_type": "markdown",
   "id": "5feacc0e",
   "metadata": {},
   "source": [
    "### C) Aborde la ausencia de valores en el conjunto de datos\n",
    "\n",
    "El resultado del método info() que mencionamos más arriba indicó que aproximadamente 180 observaciones no tienen el valor de la edad. El valor de la edad es importante para nuestro análisis. Debemos abordar estos valores faltantes de alguna manera. Si bien no es lo ideal, podemos reemplazar estos valores de edad faltantes por el promedio de edad para todo el conjunto de datos.\n",
    "\n",
    "Esto se logra mediante la aplicación del método fillna() en la columna \"Age\" (\"Edad\") del conjunto de datos. El método fillna() cambiará la estructura de datos original mediante el argumento inplace = True.\n",
    "\n"
   ]
  },
  {
   "cell_type": "code",
   "execution_count": 6,
   "id": "9aa21ca6",
   "metadata": {},
   "outputs": [],
   "source": [
    "#code cell 6\n",
    "training[\"Age\"].fillna(training[\"Age\"].mean(), inplace=True)"
   ]
  },
  {
   "cell_type": "markdown",
   "id": "bf1971b8",
   "metadata": {},
   "source": [
    "### d) Verifique que se hayan reemplazado los valores"
   ]
  },
  {
   "cell_type": "code",
   "execution_count": 7,
   "id": "d9088989",
   "metadata": {},
   "outputs": [
    {
     "name": "stdout",
     "output_type": "stream",
     "text": [
      "<class 'pandas.core.frame.DataFrame'>\n",
      "RangeIndex: 915 entries, 0 to 914\n",
      "Data columns (total 12 columns):\n",
      " #   Column       Non-Null Count  Dtype  \n",
      "---  ------       --------------  -----  \n",
      " 0   PassengerId  915 non-null    int64  \n",
      " 1   Survived     915 non-null    int64  \n",
      " 2   Pclass       915 non-null    int64  \n",
      " 3   Name         915 non-null    object \n",
      " 4   Gender       915 non-null    int64  \n",
      " 5   Age          915 non-null    float64\n",
      " 6   SibSp        915 non-null    int64  \n",
      " 7   Parch        915 non-null    int64  \n",
      " 8   Ticket       915 non-null    object \n",
      " 9   Fare         915 non-null    float64\n",
      " 10  Cabin        202 non-null    object \n",
      " 11  Embarked     914 non-null    object \n",
      "dtypes: float64(2), int64(6), object(4)\n",
      "memory usage: 85.9+ KB\n"
     ]
    }
   ],
   "source": [
    "#code cell 7\n",
    "#verify that the missing values for the age variable have been eliminated.\n",
    "#answers may vary\n",
    "training.info()"
   ]
  },
  {
   "cell_type": "markdown",
   "id": "046700f2",
   "metadata": {},
   "source": [
    "¿Cuál es el valor que se utilizó para reemplazar a las edades faltantes?"
   ]
  },
  {
   "cell_type": "markdown",
   "id": "fbf3b243",
   "metadata": {},
   "source": [
    "915"
   ]
  },
  {
   "cell_type": "markdown",
   "id": "50982ea9",
   "metadata": {},
   "source": [
    "### Paso 3: Entrenar y calificar el modelo del árbol de decisiones.\n",
    "#### a) Cree un objeto de arreglo con la variable que será el objetivo del modelo.\n",
    "\n",
    "El propósito del modelo es clasificar a los pasajeros como sobrevivientes o víctimas fatales. El conjunto de datos identifica sobrevivientes y víctimas fatales. El modelo deducirá qué valores variables de entrada tienen más probabilidad de pertenecer a las víctimas fatales y a los sobrevivientes. Luego, usted podrá utilizar dicha información para clasificar pasajeros de un conjunto de datos único de prueba.\n"
   ]
  },
  {
   "cell_type": "code",
   "execution_count": 8,
   "id": "e364e3db",
   "metadata": {},
   "outputs": [
    {
     "data": {
      "text/html": [
       "<div>\n",
       "<style scoped>\n",
       "    .dataframe tbody tr th:only-of-type {\n",
       "        vertical-align: middle;\n",
       "    }\n",
       "\n",
       "    .dataframe tbody tr th {\n",
       "        vertical-align: top;\n",
       "    }\n",
       "\n",
       "    .dataframe thead th {\n",
       "        text-align: right;\n",
       "    }\n",
       "</style>\n",
       "<table border=\"1\" class=\"dataframe\">\n",
       "  <thead>\n",
       "    <tr style=\"text-align: right;\">\n",
       "      <th></th>\n",
       "      <th>PassengerId</th>\n",
       "      <th>Survived</th>\n",
       "      <th>Pclass</th>\n",
       "      <th>Name</th>\n",
       "      <th>Gender</th>\n",
       "      <th>Age</th>\n",
       "      <th>SibSp</th>\n",
       "      <th>Parch</th>\n",
       "      <th>Ticket</th>\n",
       "      <th>Fare</th>\n",
       "      <th>Cabin</th>\n",
       "      <th>Embarked</th>\n",
       "    </tr>\n",
       "  </thead>\n",
       "  <tbody>\n",
       "    <tr>\n",
       "      <th>0</th>\n",
       "      <td>1</td>\n",
       "      <td>0</td>\n",
       "      <td>1</td>\n",
       "      <td>Davidson, Mr. Thornton</td>\n",
       "      <td>0</td>\n",
       "      <td>31.000000</td>\n",
       "      <td>1</td>\n",
       "      <td>0</td>\n",
       "      <td>F.C. 12750</td>\n",
       "      <td>52.0000</td>\n",
       "      <td>B71</td>\n",
       "      <td>S</td>\n",
       "    </tr>\n",
       "    <tr>\n",
       "      <th>1</th>\n",
       "      <td>2</td>\n",
       "      <td>0</td>\n",
       "      <td>3</td>\n",
       "      <td>Asim, Mr. Adola</td>\n",
       "      <td>0</td>\n",
       "      <td>35.000000</td>\n",
       "      <td>0</td>\n",
       "      <td>0</td>\n",
       "      <td>SOTON/O.Q. 3101310</td>\n",
       "      <td>7.0500</td>\n",
       "      <td>NaN</td>\n",
       "      <td>S</td>\n",
       "    </tr>\n",
       "    <tr>\n",
       "      <th>2</th>\n",
       "      <td>3</td>\n",
       "      <td>0</td>\n",
       "      <td>3</td>\n",
       "      <td>Nankoff, Mr. Minko</td>\n",
       "      <td>0</td>\n",
       "      <td>29.970867</td>\n",
       "      <td>0</td>\n",
       "      <td>0</td>\n",
       "      <td>349218</td>\n",
       "      <td>7.8958</td>\n",
       "      <td>NaN</td>\n",
       "      <td>S</td>\n",
       "    </tr>\n",
       "    <tr>\n",
       "      <th>3</th>\n",
       "      <td>4</td>\n",
       "      <td>0</td>\n",
       "      <td>1</td>\n",
       "      <td>Thayer, Mr. John Borland</td>\n",
       "      <td>0</td>\n",
       "      <td>49.000000</td>\n",
       "      <td>1</td>\n",
       "      <td>1</td>\n",
       "      <td>17421</td>\n",
       "      <td>110.8833</td>\n",
       "      <td>C68</td>\n",
       "      <td>C</td>\n",
       "    </tr>\n",
       "    <tr>\n",
       "      <th>4</th>\n",
       "      <td>5</td>\n",
       "      <td>0</td>\n",
       "      <td>3</td>\n",
       "      <td>Strandberg, Miss. Ida Sofia</td>\n",
       "      <td>1</td>\n",
       "      <td>22.000000</td>\n",
       "      <td>0</td>\n",
       "      <td>0</td>\n",
       "      <td>7553</td>\n",
       "      <td>9.8375</td>\n",
       "      <td>NaN</td>\n",
       "      <td>S</td>\n",
       "    </tr>\n",
       "  </tbody>\n",
       "</table>\n",
       "</div>"
      ],
      "text/plain": [
       "   PassengerId  Survived  Pclass                         Name  Gender  \\\n",
       "0            1         0       1       Davidson, Mr. Thornton       0   \n",
       "1            2         0       3              Asim, Mr. Adola       0   \n",
       "2            3         0       3           Nankoff, Mr. Minko       0   \n",
       "3            4         0       1     Thayer, Mr. John Borland       0   \n",
       "4            5         0       3  Strandberg, Miss. Ida Sofia       1   \n",
       "\n",
       "         Age  SibSp  Parch              Ticket      Fare Cabin Embarked  \n",
       "0  31.000000      1      0          F.C. 12750   52.0000   B71        S  \n",
       "1  35.000000      0      0  SOTON/O.Q. 3101310    7.0500   NaN        S  \n",
       "2  29.970867      0      0              349218    7.8958   NaN        S  \n",
       "3  49.000000      1      1               17421  110.8833   C68        C  \n",
       "4  22.000000      0      0                7553    9.8375   NaN        S  "
      ]
     },
     "execution_count": 8,
     "metadata": {},
     "output_type": "execute_result"
    }
   ],
   "source": [
    "#code cell 8\n",
    "#create the array for the target values\n",
    "y_target = training[\"Survived\"].values\n",
    "training.head()"
   ]
  },
  {
   "cell_type": "markdown",
   "id": "eb561343",
   "metadata": {},
   "source": [
    "### b) Cree el arreglo de valores que será la entrada para el modelo.\n",
    "\n",
    "Solo algunas de las funciones de datos son útiles para crear el árbol clasificador. Creamos una lista de las columnas a partir de los datos que deseamos que el clasificador utilice como variables de entrada y luego creamos un arreglo con el nombre de la columna de esa variable. La variable X_input contiene los valores para todas las funciones que utilizará el modelo para deducir cómo hacer las clasificaciones. Una vez que el modelo esté entrenado, utilizaremos esta variable para asignar estas etiquetas al conjunto de datos de prueba."
   ]
  },
  {
   "cell_type": "code",
   "execution_count": 9,
   "id": "26e03330",
   "metadata": {},
   "outputs": [],
   "source": [
    "#code cell 9\n",
    "columns = [\"Fare\", \"Pclass\", \"Gender\", \"Age\", \"SibSp\"]\n",
    "#create the variable to hold the features that the classifier will use\n",
    "X_input = training[list(columns)].values\n"
   ]
  },
  {
   "cell_type": "markdown",
   "id": "e3fa945d",
   "metadata": {},
   "source": [
    "### c) Crear el modelo programado.\n",
    "\n",
    "Importe el módulo del árbol de decisiones desde la biblioteca de aprendizaje automático sklearn. Cree el objeto clasificador clf_train. A continuación, utilice el método fit() del objeto clasificador con la variables X_input e y_target como parámetros para entrenar el modelo."
   ]
  },
  {
   "cell_type": "code",
   "execution_count": 10,
   "id": "b0f7ea4a",
   "metadata": {},
   "outputs": [],
   "source": [
    "#code cell 10\n",
    "#import the tree module from the sklearn library\n",
    "from sklearn import tree\n",
    "\n",
    "#create clf_train as a decision tree classifier object\n",
    "clf_train = tree.DecisionTreeClassifier(criterion=\"entropy\", max_depth=3)\n",
    "\n",
    "#train the model using the fit() method of the decision tree object. \n",
    "#Supply the method with the input variable X_input and the target variable y_target\n",
    "clf_train = clf_train.fit(X_input, y_target)"
   ]
  },
  {
   "cell_type": "markdown",
   "id": "d7e6078b",
   "metadata": {},
   "source": [
    "### d) Evalúe el modelo.\n",
    "\n",
    "Utilice el método score() del objeto del árbol de decisiones para mostrar la precisión del porcentaje de las asignaciones realizadas por el clasificador. Este método considera las variables de entrada y salida como argumentos.\n"
   ]
  },
  {
   "cell_type": "code",
   "execution_count": 11,
   "id": "b441a7ad",
   "metadata": {},
   "outputs": [
    {
     "data": {
      "text/plain": [
       "0.8163934426229508"
      ]
     },
     "execution_count": 11,
     "metadata": {},
     "output_type": "execute_result"
    }
   ],
   "source": [
    "#code cell 11\n",
    "clf_train.score(X_input,y_target)"
   ]
  },
  {
   "cell_type": "markdown",
   "id": "f479731e",
   "metadata": {},
   "source": [
    "Este valor de calificación indica que las calificaciones realizadas por el modelo deberían ser correctas aproximadamente el 82 % de las veces.\n",
    "\n",
    "### Paso 6: Visualizar el árbol\n",
    "#### a) Cree el resultado del archivo intermedio.\n",
    "\n",
    "Importe el módulo sklearn.externals.six StringIO que se utiliza para generar las características del árbol de decisiones en un archivo. Crearemos un archivo dot de Graphviz que nos permitirá exportar los resultados del clasificador en un formato que se puede convertir en gráfico.\n"
   ]
  },
  {
   "cell_type": "code",
   "execution_count": 12,
   "id": "56b9d898",
   "metadata": {},
   "outputs": [],
   "source": [
    "#code cell 12\n",
    "from six import StringIO\n",
    "with open(\"C:/Users/inkar/Analítica de datos en las organizaciones/Data/titanic.dot\", 'w') as f:\n",
    "    f = tree.export_graphviz(clf_train, out_file=f, feature_names=columns)"
   ]
  },
  {
   "cell_type": "markdown",
   "id": "ea46b1e1",
   "metadata": {},
   "source": [
    "### b) Instale Graphviz.\n",
    "\n",
    "Para visualizar el árbol de decisiones, Graphviz debe instalarse desde una terminal. La instalación requiere responder una pregunta emergente, lo cual no se puede hacer desde una celda de código de una libreta de anotaciones. Utilice el comando apt-get install graphviz de la línea de comando de la terminal para instalar este software.\n",
    "### c) Convierta el archivo intermedio en gráfico.\n",
    "\n",
    "El archivo dot que se creó anteriormente se puede convertir en un archivo .png con el procesador dot de Graphiz. Este es un comando shell, así que utilice ! antes de él para ejecutarlo desde esta libreta de anotaciones. El nuevo archivo de imagen titanic.png deberá aparecer en el directorio que contiene esta libreta de anotaciones.\n"
   ]
  },
  {
   "cell_type": "code",
   "execution_count": 13,
   "id": "725bf90b",
   "metadata": {},
   "outputs": [
    {
     "name": "stderr",
     "output_type": "stream",
     "text": [
      "\"dot\" no se reconoce como un comando interno o externo,\n",
      "programa o archivo por lotes ejecutable.\n"
     ]
    }
   ],
   "source": [
    "#code cell 13\n",
    "#run the Graphviz dot command to convert the .dot file to .png\n",
    "!dot -Tpng ./Data/titanic.dot -o ./Data/titanic.png"
   ]
  },
  {
   "cell_type": "markdown",
   "id": "9967a243",
   "metadata": {},
   "source": [
    "### D) Muestre la imagen.\n",
    "\n",
    "Ahora importaremos el módulo Image desde la biblioteca IPython.display. Esto permitirá que abramos y visualicemos un archivo gráfico externo en la página de la libreta de anotaciones. La función Image se utiliza para visualizar el archivo, con el del archivo .png como argumento."
   ]
  },
  {
   "cell_type": "code",
   "execution_count": 14,
   "id": "28f25873",
   "metadata": {},
   "outputs": [
    {
     "ename": "FileNotFoundError",
     "evalue": "No such file or directory: 'C:/Users/inkar/Analítica de datos en las organizaciones/Data/titanic.png'",
     "output_type": "error",
     "traceback": [
      "\u001b[1;31m---------------------------------------------------------------------------\u001b[0m",
      "\u001b[1;31mTypeError\u001b[0m                                 Traceback (most recent call last)",
      "File \u001b[1;32m~\\Anaconda3\\lib\\site-packages\\IPython\\core\\display.py:1032\u001b[0m, in \u001b[0;36mImage._data_and_metadata\u001b[1;34m(self, always_both)\u001b[0m\n\u001b[0;32m   1031\u001b[0m \u001b[38;5;28;01mtry\u001b[39;00m:\n\u001b[1;32m-> 1032\u001b[0m     b64_data \u001b[38;5;241m=\u001b[39m \u001b[43mb2a_base64\u001b[49m\u001b[43m(\u001b[49m\u001b[38;5;28;43mself\u001b[39;49m\u001b[38;5;241;43m.\u001b[39;49m\u001b[43mdata\u001b[49m\u001b[43m)\u001b[49m\u001b[38;5;241m.\u001b[39mdecode(\u001b[38;5;124m'\u001b[39m\u001b[38;5;124mascii\u001b[39m\u001b[38;5;124m'\u001b[39m)\n\u001b[0;32m   1033\u001b[0m \u001b[38;5;28;01mexcept\u001b[39;00m \u001b[38;5;167;01mTypeError\u001b[39;00m \u001b[38;5;28;01mas\u001b[39;00m e:\n",
      "\u001b[1;31mTypeError\u001b[0m: a bytes-like object is required, not 'str'",
      "\nThe above exception was the direct cause of the following exception:\n",
      "\u001b[1;31mFileNotFoundError\u001b[0m                         Traceback (most recent call last)",
      "File \u001b[1;32m~\\Anaconda3\\lib\\site-packages\\IPython\\core\\formatters.py:973\u001b[0m, in \u001b[0;36mMimeBundleFormatter.__call__\u001b[1;34m(self, obj, include, exclude)\u001b[0m\n\u001b[0;32m    970\u001b[0m     method \u001b[38;5;241m=\u001b[39m get_real_method(obj, \u001b[38;5;28mself\u001b[39m\u001b[38;5;241m.\u001b[39mprint_method)\n\u001b[0;32m    972\u001b[0m     \u001b[38;5;28;01mif\u001b[39;00m method \u001b[38;5;129;01mis\u001b[39;00m \u001b[38;5;129;01mnot\u001b[39;00m \u001b[38;5;28;01mNone\u001b[39;00m:\n\u001b[1;32m--> 973\u001b[0m         \u001b[38;5;28;01mreturn\u001b[39;00m \u001b[43mmethod\u001b[49m\u001b[43m(\u001b[49m\u001b[43minclude\u001b[49m\u001b[38;5;241;43m=\u001b[39;49m\u001b[43minclude\u001b[49m\u001b[43m,\u001b[49m\u001b[43m \u001b[49m\u001b[43mexclude\u001b[49m\u001b[38;5;241;43m=\u001b[39;49m\u001b[43mexclude\u001b[49m\u001b[43m)\u001b[49m\n\u001b[0;32m    974\u001b[0m     \u001b[38;5;28;01mreturn\u001b[39;00m \u001b[38;5;28;01mNone\u001b[39;00m\n\u001b[0;32m    975\u001b[0m \u001b[38;5;28;01melse\u001b[39;00m:\n",
      "File \u001b[1;32m~\\Anaconda3\\lib\\site-packages\\IPython\\core\\display.py:1022\u001b[0m, in \u001b[0;36mImage._repr_mimebundle_\u001b[1;34m(self, include, exclude)\u001b[0m\n\u001b[0;32m   1020\u001b[0m \u001b[38;5;28;01mif\u001b[39;00m \u001b[38;5;28mself\u001b[39m\u001b[38;5;241m.\u001b[39membed:\n\u001b[0;32m   1021\u001b[0m     mimetype \u001b[38;5;241m=\u001b[39m \u001b[38;5;28mself\u001b[39m\u001b[38;5;241m.\u001b[39m_mimetype\n\u001b[1;32m-> 1022\u001b[0m     data, metadata \u001b[38;5;241m=\u001b[39m \u001b[38;5;28;43mself\u001b[39;49m\u001b[38;5;241;43m.\u001b[39;49m\u001b[43m_data_and_metadata\u001b[49m\u001b[43m(\u001b[49m\u001b[43malways_both\u001b[49m\u001b[38;5;241;43m=\u001b[39;49m\u001b[38;5;28;43;01mTrue\u001b[39;49;00m\u001b[43m)\u001b[49m\n\u001b[0;32m   1023\u001b[0m     \u001b[38;5;28;01mif\u001b[39;00m metadata:\n\u001b[0;32m   1024\u001b[0m         metadata \u001b[38;5;241m=\u001b[39m {mimetype: metadata}\n",
      "File \u001b[1;32m~\\Anaconda3\\lib\\site-packages\\IPython\\core\\display.py:1034\u001b[0m, in \u001b[0;36mImage._data_and_metadata\u001b[1;34m(self, always_both)\u001b[0m\n\u001b[0;32m   1032\u001b[0m     b64_data \u001b[38;5;241m=\u001b[39m b2a_base64(\u001b[38;5;28mself\u001b[39m\u001b[38;5;241m.\u001b[39mdata)\u001b[38;5;241m.\u001b[39mdecode(\u001b[38;5;124m'\u001b[39m\u001b[38;5;124mascii\u001b[39m\u001b[38;5;124m'\u001b[39m)\n\u001b[0;32m   1033\u001b[0m \u001b[38;5;28;01mexcept\u001b[39;00m \u001b[38;5;167;01mTypeError\u001b[39;00m \u001b[38;5;28;01mas\u001b[39;00m e:\n\u001b[1;32m-> 1034\u001b[0m     \u001b[38;5;28;01mraise\u001b[39;00m \u001b[38;5;167;01mFileNotFoundError\u001b[39;00m(\n\u001b[0;32m   1035\u001b[0m         \u001b[38;5;124m\"\u001b[39m\u001b[38;5;124mNo such file or directory: \u001b[39m\u001b[38;5;124m'\u001b[39m\u001b[38;5;132;01m%s\u001b[39;00m\u001b[38;5;124m'\u001b[39m\u001b[38;5;124m\"\u001b[39m \u001b[38;5;241m%\u001b[39m (\u001b[38;5;28mself\u001b[39m\u001b[38;5;241m.\u001b[39mdata)) \u001b[38;5;28;01mfrom\u001b[39;00m \u001b[38;5;21;01me\u001b[39;00m\n\u001b[0;32m   1036\u001b[0m md \u001b[38;5;241m=\u001b[39m {}\n\u001b[0;32m   1037\u001b[0m \u001b[38;5;28;01mif\u001b[39;00m \u001b[38;5;28mself\u001b[39m\u001b[38;5;241m.\u001b[39mmetadata:\n",
      "\u001b[1;31mFileNotFoundError\u001b[0m: No such file or directory: 'C:/Users/inkar/Analítica de datos en las organizaciones/Data/titanic.png'"
     ]
    },
    {
     "ename": "FileNotFoundError",
     "evalue": "No such file or directory: 'C:/Users/inkar/Analítica de datos en las organizaciones/Data/titanic.png'",
     "output_type": "error",
     "traceback": [
      "\u001b[1;31m---------------------------------------------------------------------------\u001b[0m",
      "\u001b[1;31mTypeError\u001b[0m                                 Traceback (most recent call last)",
      "File \u001b[1;32m~\\Anaconda3\\lib\\site-packages\\IPython\\core\\display.py:1032\u001b[0m, in \u001b[0;36mImage._data_and_metadata\u001b[1;34m(self, always_both)\u001b[0m\n\u001b[0;32m   1031\u001b[0m \u001b[38;5;28;01mtry\u001b[39;00m:\n\u001b[1;32m-> 1032\u001b[0m     b64_data \u001b[38;5;241m=\u001b[39m \u001b[43mb2a_base64\u001b[49m\u001b[43m(\u001b[49m\u001b[38;5;28;43mself\u001b[39;49m\u001b[38;5;241;43m.\u001b[39;49m\u001b[43mdata\u001b[49m\u001b[43m)\u001b[49m\u001b[38;5;241m.\u001b[39mdecode(\u001b[38;5;124m'\u001b[39m\u001b[38;5;124mascii\u001b[39m\u001b[38;5;124m'\u001b[39m)\n\u001b[0;32m   1033\u001b[0m \u001b[38;5;28;01mexcept\u001b[39;00m \u001b[38;5;167;01mTypeError\u001b[39;00m \u001b[38;5;28;01mas\u001b[39;00m e:\n",
      "\u001b[1;31mTypeError\u001b[0m: a bytes-like object is required, not 'str'",
      "\nThe above exception was the direct cause of the following exception:\n",
      "\u001b[1;31mFileNotFoundError\u001b[0m                         Traceback (most recent call last)",
      "File \u001b[1;32m~\\Anaconda3\\lib\\site-packages\\IPython\\core\\formatters.py:343\u001b[0m, in \u001b[0;36mBaseFormatter.__call__\u001b[1;34m(self, obj)\u001b[0m\n\u001b[0;32m    341\u001b[0m     method \u001b[38;5;241m=\u001b[39m get_real_method(obj, \u001b[38;5;28mself\u001b[39m\u001b[38;5;241m.\u001b[39mprint_method)\n\u001b[0;32m    342\u001b[0m     \u001b[38;5;28;01mif\u001b[39;00m method \u001b[38;5;129;01mis\u001b[39;00m \u001b[38;5;129;01mnot\u001b[39;00m \u001b[38;5;28;01mNone\u001b[39;00m:\n\u001b[1;32m--> 343\u001b[0m         \u001b[38;5;28;01mreturn\u001b[39;00m \u001b[43mmethod\u001b[49m\u001b[43m(\u001b[49m\u001b[43m)\u001b[49m\n\u001b[0;32m    344\u001b[0m     \u001b[38;5;28;01mreturn\u001b[39;00m \u001b[38;5;28;01mNone\u001b[39;00m\n\u001b[0;32m    345\u001b[0m \u001b[38;5;28;01melse\u001b[39;00m:\n",
      "File \u001b[1;32m~\\Anaconda3\\lib\\site-packages\\IPython\\core\\display.py:1054\u001b[0m, in \u001b[0;36mImage._repr_png_\u001b[1;34m(self)\u001b[0m\n\u001b[0;32m   1052\u001b[0m \u001b[38;5;28;01mdef\u001b[39;00m \u001b[38;5;21m_repr_png_\u001b[39m(\u001b[38;5;28mself\u001b[39m):\n\u001b[0;32m   1053\u001b[0m     \u001b[38;5;28;01mif\u001b[39;00m \u001b[38;5;28mself\u001b[39m\u001b[38;5;241m.\u001b[39membed \u001b[38;5;129;01mand\u001b[39;00m \u001b[38;5;28mself\u001b[39m\u001b[38;5;241m.\u001b[39mformat \u001b[38;5;241m==\u001b[39m \u001b[38;5;28mself\u001b[39m\u001b[38;5;241m.\u001b[39m_FMT_PNG:\n\u001b[1;32m-> 1054\u001b[0m         \u001b[38;5;28;01mreturn\u001b[39;00m \u001b[38;5;28;43mself\u001b[39;49m\u001b[38;5;241;43m.\u001b[39;49m\u001b[43m_data_and_metadata\u001b[49m\u001b[43m(\u001b[49m\u001b[43m)\u001b[49m\n",
      "File \u001b[1;32m~\\Anaconda3\\lib\\site-packages\\IPython\\core\\display.py:1034\u001b[0m, in \u001b[0;36mImage._data_and_metadata\u001b[1;34m(self, always_both)\u001b[0m\n\u001b[0;32m   1032\u001b[0m     b64_data \u001b[38;5;241m=\u001b[39m b2a_base64(\u001b[38;5;28mself\u001b[39m\u001b[38;5;241m.\u001b[39mdata)\u001b[38;5;241m.\u001b[39mdecode(\u001b[38;5;124m'\u001b[39m\u001b[38;5;124mascii\u001b[39m\u001b[38;5;124m'\u001b[39m)\n\u001b[0;32m   1033\u001b[0m \u001b[38;5;28;01mexcept\u001b[39;00m \u001b[38;5;167;01mTypeError\u001b[39;00m \u001b[38;5;28;01mas\u001b[39;00m e:\n\u001b[1;32m-> 1034\u001b[0m     \u001b[38;5;28;01mraise\u001b[39;00m \u001b[38;5;167;01mFileNotFoundError\u001b[39;00m(\n\u001b[0;32m   1035\u001b[0m         \u001b[38;5;124m\"\u001b[39m\u001b[38;5;124mNo such file or directory: \u001b[39m\u001b[38;5;124m'\u001b[39m\u001b[38;5;132;01m%s\u001b[39;00m\u001b[38;5;124m'\u001b[39m\u001b[38;5;124m\"\u001b[39m \u001b[38;5;241m%\u001b[39m (\u001b[38;5;28mself\u001b[39m\u001b[38;5;241m.\u001b[39mdata)) \u001b[38;5;28;01mfrom\u001b[39;00m \u001b[38;5;21;01me\u001b[39;00m\n\u001b[0;32m   1036\u001b[0m md \u001b[38;5;241m=\u001b[39m {}\n\u001b[0;32m   1037\u001b[0m \u001b[38;5;28;01mif\u001b[39;00m \u001b[38;5;28mself\u001b[39m\u001b[38;5;241m.\u001b[39mmetadata:\n",
      "\u001b[1;31mFileNotFoundError\u001b[0m: No such file or directory: 'C:/Users/inkar/Analítica de datos en las organizaciones/Data/titanic.png'"
     ]
    },
    {
     "data": {
      "text/plain": [
       "<IPython.core.display.Image object>"
      ]
     },
     "execution_count": 14,
     "metadata": {},
     "output_type": "execute_result"
    }
   ],
   "source": [
    "#code cell 14\n",
    "#import the Image module from the Ipython.display libary\n",
    "from IPython.display import Image\n",
    "\n",
    "#display the decison tree graphic\n",
    "Image(\"C:/Users/inkar/Analítica de datos en las organizaciones/Data/titanic.png\")"
   ]
  },
  {
   "cell_type": "markdown",
   "id": "f1b37dd4",
   "metadata": {},
   "source": [
    "### e) Interprete el árbol.\n",
    "\n",
    "En el árbol entrenado, podemos ver varias cosas. Primero, en su raíz, está la variable Gender, que indica que es el único factor más importante al realizar la clasificación. Las ramas hacia la izquierda son para Gender = 0 o masculino. La raíz y cada nodo intermedio contienen el factor de decisión, la entropía y la muestra de pasajeros que cumplen con criterio en ese punto del árbol. Por ejemplo, el nodo raíz indica que hay 915 observaciones que conforman el conjunto de datos de aprendizaje. En el siguiente nivel, podemos ver que 597 personas eran de género masculino y 318 de género femenino. Para la rama femenina del árbol, en el siguiente nivel hacia abajo, podemos ver que de los 318 pasajeros de género femenino, 173 eran pasajeros de primera o segunda clase (Pclass<=2.5000) y 145 eran de tercera clase. Luego, de los 145 pasajeros de género femenino de tercera clase, 126 pagaron una tarifa inferior a 24.8 por su ticket, mientras que 19 pagaron más de ese monto.\n",
    "\n",
    "Por último, en los nodos de hojas, que están en la fila inferior del árbol, podemos ver valores emparejados entre corchetes que indican el número de víctimas fatales y de sobrevivientes para la clasificación específica de pasajeros. Por ejemplo, para los pasajeros de género femenino de tercera clase que pagaron menos de 24.8, la cantidad de víctimas fatales y sobrevivientes sumaba 63. De esos mismos pasajeros que pagaron más de 24.8, 18 fallecieron y 1 sobrevivió.\n",
    "\n",
    "La entropía es una medida de ruido en la decisión. El ruido se puede ver como incertidumbre. Por ejemplo, en los nodos en los que la decisión brinda valores iguales en el arreglo de valores de sobrevivientes, la entropía se encuentra en su valor más alto posible, que es 1.0. Esto significa que el modelo no pudo tomar, de forma definitiva, la decisión de clasificación según las variables de entrada. Para los valores de la entropía muy baja, la decisión era mucho más clara, y la diferencia en la cantidad de sobrevivientes y víctimas fatales es mucho mayor.\n",
    "\n",
    "¿Qué describe al grupo que tenía mayor cantidad de víctimas fatales? ¿Qué grupo tenía la mayor cantidad de sobrevivientes?\n",
    "\n",
    "Escriba sus respuestas aquí\n"
   ]
  },
  {
   "cell_type": "markdown",
   "id": "04624e22",
   "metadata": {},
   "source": [
    "## Parte 2: Aplicar el modelo del árbol de decisiones¶\n",
    "\n",
    "En esta parte de la práctica de laboratorio, usaremos los resultados del modelo del árbol de decisiones programado para etiquetar un conjunto de datos sin etiquetas de pasajeros del Titanic. El árbol de decisiones evaluará las características de cada observación y etiquetará la observación como sobreviviente (etiqueta = 1) o víctima fatal (etiqueta = 0).\n",
    "### Paso 1: Importar y elaborar los datos\n",
    "\n",
    "En este paso, importará y preparará los datos para el análisis.\n",
    "#### a) Importe los datos.\n",
    "\n",
    "Coloque el nombre “prueba” a la estructura de datos e importe el archivo titanic-test.csv.\n"
   ]
  },
  {
   "cell_type": "code",
   "execution_count": 15,
   "id": "c0e4b65c",
   "metadata": {},
   "outputs": [
    {
     "name": "stdout",
     "output_type": "stream",
     "text": [
      "<class 'pandas.core.frame.DataFrame'>\n",
      "RangeIndex: 393 entries, 0 to 392\n",
      "Data columns (total 12 columns):\n",
      " #   Column       Non-Null Count  Dtype  \n",
      "---  ------       --------------  -----  \n",
      " 0   PassengerId  393 non-null    int64  \n",
      " 1   Survived     393 non-null    int64  \n",
      " 2   Pclass       393 non-null    int64  \n",
      " 3   Name         393 non-null    object \n",
      " 4   Gender       393 non-null    object \n",
      " 5   Age          307 non-null    float64\n",
      " 6   SibSp        393 non-null    int64  \n",
      " 7   Parch        393 non-null    int64  \n",
      " 8   Ticket       393 non-null    object \n",
      " 9   Fare         393 non-null    float64\n",
      " 10  Cabin        93 non-null     object \n",
      " 11  Embarked     392 non-null    object \n",
      "dtypes: float64(2), int64(5), object(5)\n",
      "memory usage: 37.0+ KB\n"
     ]
    }
   ],
   "source": [
    "#code cell 15\n",
    "#import the file into the 'testing' dataframe.\n",
    "testing = pd.read_csv(\"C:/Users/inkar/Analítica de datos en las organizaciones/Data/titanic-test.csv\")\n",
    "testing.info()"
   ]
  },
  {
   "cell_type": "markdown",
   "id": "22f0f4a7",
   "metadata": {},
   "source": [
    "¿Cuántos registros hay en el conjunto de datos?\n",
    "\n",
    "393\n",
    "\n",
    "¿Qué variable(s) importante(s) son valores faltantes y cuántas faltan?\n",
    "\n",
    "El sexo se podria cambiar por valores de 0 y 1, despues llenamos las edades con esto tener todos los datos completos\n",
    "\n",
    "#### b) Utilice una expresión lambda para reemplazar los valores “male” y “female” por 0 para masculino y 1 para femenino."
   ]
  },
  {
   "cell_type": "code",
   "execution_count": 16,
   "id": "7f853d19",
   "metadata": {},
   "outputs": [],
   "source": [
    "#code cell 16\n",
    "#replace the Gender labels in the testing dataframe\n",
    "testing[\"Gender\"] = testing[\"Gender\"].apply(lambda toLabel: 0 if toLabel == 'male' else 1)"
   ]
  },
  {
   "cell_type": "markdown",
   "id": "a2953eac",
   "metadata": {},
   "source": [
    "#### c) Reemplace los valores de edad faltantes por el promedio de las edades."
   ]
  },
  {
   "cell_type": "code",
   "execution_count": 17,
   "id": "5fa2ed61",
   "metadata": {},
   "outputs": [],
   "source": [
    "#code cell 17\n",
    "#Use the fillna method of the testing dataframe column \"Age\" \n",
    "#to replace missing values with the mean of the age values.\n",
    "testing[\"Age\"].fillna(testing[\"Age\"].mean(), inplace=True)"
   ]
  },
  {
   "cell_type": "markdown",
   "id": "5dc276cf",
   "metadata": {},
   "source": [
    "#### d) Verifique que se hayan reemplazado los valores.\n",
    "\n",
    "Verifique que se hayan completado los valores faltantes y que las etiquetas de Gender sean 0 y 1.\n"
   ]
  },
  {
   "cell_type": "code",
   "execution_count": 18,
   "id": "5322d167",
   "metadata": {},
   "outputs": [
    {
     "name": "stdout",
     "output_type": "stream",
     "text": [
      "<class 'pandas.core.frame.DataFrame'>\n",
      "RangeIndex: 393 entries, 0 to 392\n",
      "Data columns (total 12 columns):\n",
      " #   Column       Non-Null Count  Dtype  \n",
      "---  ------       --------------  -----  \n",
      " 0   PassengerId  393 non-null    int64  \n",
      " 1   Survived     393 non-null    int64  \n",
      " 2   Pclass       393 non-null    int64  \n",
      " 3   Name         393 non-null    object \n",
      " 4   Gender       393 non-null    int64  \n",
      " 5   Age          393 non-null    float64\n",
      " 6   SibSp        393 non-null    int64  \n",
      " 7   Parch        393 non-null    int64  \n",
      " 8   Ticket       393 non-null    object \n",
      " 9   Fare         393 non-null    float64\n",
      " 10  Cabin        93 non-null     object \n",
      " 11  Embarked     392 non-null    object \n",
      "dtypes: float64(2), int64(6), object(4)\n",
      "memory usage: 37.0+ KB\n"
     ]
    },
    {
     "data": {
      "text/html": [
       "<div>\n",
       "<style scoped>\n",
       "    .dataframe tbody tr th:only-of-type {\n",
       "        vertical-align: middle;\n",
       "    }\n",
       "\n",
       "    .dataframe tbody tr th {\n",
       "        vertical-align: top;\n",
       "    }\n",
       "\n",
       "    .dataframe thead th {\n",
       "        text-align: right;\n",
       "    }\n",
       "</style>\n",
       "<table border=\"1\" class=\"dataframe\">\n",
       "  <thead>\n",
       "    <tr style=\"text-align: right;\">\n",
       "      <th></th>\n",
       "      <th>PassengerId</th>\n",
       "      <th>Survived</th>\n",
       "      <th>Pclass</th>\n",
       "      <th>Name</th>\n",
       "      <th>Gender</th>\n",
       "      <th>Age</th>\n",
       "      <th>SibSp</th>\n",
       "      <th>Parch</th>\n",
       "      <th>Ticket</th>\n",
       "      <th>Fare</th>\n",
       "      <th>Cabin</th>\n",
       "      <th>Embarked</th>\n",
       "    </tr>\n",
       "  </thead>\n",
       "  <tbody>\n",
       "    <tr>\n",
       "      <th>0</th>\n",
       "      <td>916</td>\n",
       "      <td>0</td>\n",
       "      <td>2</td>\n",
       "      <td>Coleridge, Mr. Reginald Charles</td>\n",
       "      <td>0</td>\n",
       "      <td>29.0</td>\n",
       "      <td>0</td>\n",
       "      <td>0</td>\n",
       "      <td>W./C. 14263</td>\n",
       "      <td>10.50</td>\n",
       "      <td>NaN</td>\n",
       "      <td>S</td>\n",
       "    </tr>\n",
       "    <tr>\n",
       "      <th>1</th>\n",
       "      <td>917</td>\n",
       "      <td>1</td>\n",
       "      <td>1</td>\n",
       "      <td>Spedden, Mrs. Frederic Oakley (Margaretta Corn...</td>\n",
       "      <td>1</td>\n",
       "      <td>40.0</td>\n",
       "      <td>1</td>\n",
       "      <td>1</td>\n",
       "      <td>16966</td>\n",
       "      <td>134.50</td>\n",
       "      <td>E34</td>\n",
       "      <td>C</td>\n",
       "    </tr>\n",
       "    <tr>\n",
       "      <th>2</th>\n",
       "      <td>918</td>\n",
       "      <td>0</td>\n",
       "      <td>3</td>\n",
       "      <td>Windelov, Mr. Einar</td>\n",
       "      <td>0</td>\n",
       "      <td>21.0</td>\n",
       "      <td>0</td>\n",
       "      <td>0</td>\n",
       "      <td>SOTON/OQ 3101317</td>\n",
       "      <td>7.25</td>\n",
       "      <td>NaN</td>\n",
       "      <td>S</td>\n",
       "    </tr>\n",
       "    <tr>\n",
       "      <th>3</th>\n",
       "      <td>919</td>\n",
       "      <td>1</td>\n",
       "      <td>1</td>\n",
       "      <td>Minahan, Miss. Daisy E</td>\n",
       "      <td>1</td>\n",
       "      <td>33.0</td>\n",
       "      <td>1</td>\n",
       "      <td>0</td>\n",
       "      <td>19928</td>\n",
       "      <td>90.00</td>\n",
       "      <td>C78</td>\n",
       "      <td>Q</td>\n",
       "    </tr>\n",
       "    <tr>\n",
       "      <th>4</th>\n",
       "      <td>920</td>\n",
       "      <td>1</td>\n",
       "      <td>3</td>\n",
       "      <td>Wilkes, Mrs. James (Ellen Needs)</td>\n",
       "      <td>1</td>\n",
       "      <td>47.0</td>\n",
       "      <td>1</td>\n",
       "      <td>0</td>\n",
       "      <td>363272</td>\n",
       "      <td>7.00</td>\n",
       "      <td>NaN</td>\n",
       "      <td>S</td>\n",
       "    </tr>\n",
       "  </tbody>\n",
       "</table>\n",
       "</div>"
      ],
      "text/plain": [
       "   PassengerId  Survived  Pclass  \\\n",
       "0          916         0       2   \n",
       "1          917         1       1   \n",
       "2          918         0       3   \n",
       "3          919         1       1   \n",
       "4          920         1       3   \n",
       "\n",
       "                                                Name  Gender   Age  SibSp  \\\n",
       "0                    Coleridge, Mr. Reginald Charles       0  29.0      0   \n",
       "1  Spedden, Mrs. Frederic Oakley (Margaretta Corn...       1  40.0      1   \n",
       "2                                Windelov, Mr. Einar       0  21.0      0   \n",
       "3                             Minahan, Miss. Daisy E       1  33.0      1   \n",
       "4                   Wilkes, Mrs. James (Ellen Needs)       1  47.0      1   \n",
       "\n",
       "   Parch            Ticket    Fare Cabin Embarked  \n",
       "0      0       W./C. 14263   10.50   NaN        S  \n",
       "1      1             16966  134.50   E34        C  \n",
       "2      0  SOTON/OQ 3101317    7.25   NaN        S  \n",
       "3      0             19928   90.00   C78        Q  \n",
       "4      0            363272    7.00   NaN        S  "
      ]
     },
     "execution_count": 18,
     "metadata": {},
     "output_type": "execute_result"
    }
   ],
   "source": [
    "#code cell 18\n",
    "#verify the data preparation steps. Enter and run both methods from here, by entering and running one and then the other.\n",
    "testing.info()\n",
    "testing.head()"
   ]
  },
  {
   "cell_type": "markdown",
   "id": "3d2c6f31",
   "metadata": {},
   "source": [
    "#### Paso 2: Etiquetar el conjunto de datos de prueba\n",
    "\n",
    "En este paso, aplicará el modelo programado al conjunto de datos de prueba.\n",
    "#### a) Cree un arreglo de variables de entrada a partir del conjunto de datos de prueba.¶\n"
   ]
  },
  {
   "cell_type": "code",
   "execution_count": 19,
   "id": "d0e929b8",
   "metadata": {},
   "outputs": [],
   "source": [
    "#code cell 19\n",
    "columns = ['Fare','Pclass','Gender','Age','SibSp']\n",
    "#create the variable X_input to hold the features that the classifier will use\n",
    "X_input = testing[list(columns)].values"
   ]
  },
  {
   "cell_type": "markdown",
   "id": "bd2dcfa5",
   "metadata": {},
   "source": [
    "#### b) Aplique el modelo al conjunto de datos de prueba.\n",
    "\n",
    "Utilice el método predict() del objeto clf_train que se entrenó para etiquetar las observaciones en el conjunto de datos de prueba con la clasificación de supervivencia más probable. Considere el arreglo de variables de entrada del conjunto de datos de prueba como el parámetro para este método.\n"
   ]
  },
  {
   "cell_type": "code",
   "execution_count": 20,
   "id": "2a53d89c",
   "metadata": {},
   "outputs": [
    {
     "data": {
      "text/html": [
       "<div>\n",
       "<style scoped>\n",
       "    .dataframe tbody tr th:only-of-type {\n",
       "        vertical-align: middle;\n",
       "    }\n",
       "\n",
       "    .dataframe tbody tr th {\n",
       "        vertical-align: top;\n",
       "    }\n",
       "\n",
       "    .dataframe thead th {\n",
       "        text-align: right;\n",
       "    }\n",
       "</style>\n",
       "<table border=\"1\" class=\"dataframe\">\n",
       "  <thead>\n",
       "    <tr style=\"text-align: right;\">\n",
       "      <th></th>\n",
       "      <th>Est_Survival</th>\n",
       "      <th>Name</th>\n",
       "    </tr>\n",
       "  </thead>\n",
       "  <tbody>\n",
       "    <tr>\n",
       "      <th>0</th>\n",
       "      <td>0</td>\n",
       "      <td>Coleridge, Mr. Reginald Charles</td>\n",
       "    </tr>\n",
       "    <tr>\n",
       "      <th>1</th>\n",
       "      <td>1</td>\n",
       "      <td>Spedden, Mrs. Frederic Oakley (Margaretta Corn...</td>\n",
       "    </tr>\n",
       "    <tr>\n",
       "      <th>2</th>\n",
       "      <td>0</td>\n",
       "      <td>Windelov, Mr. Einar</td>\n",
       "    </tr>\n",
       "    <tr>\n",
       "      <th>3</th>\n",
       "      <td>1</td>\n",
       "      <td>Minahan, Miss. Daisy E</td>\n",
       "    </tr>\n",
       "    <tr>\n",
       "      <th>4</th>\n",
       "      <td>0</td>\n",
       "      <td>Wilkes, Mrs. James (Ellen Needs)</td>\n",
       "    </tr>\n",
       "  </tbody>\n",
       "</table>\n",
       "</div>"
      ],
      "text/plain": [
       "   Est_Survival                                               Name\n",
       "0             0                    Coleridge, Mr. Reginald Charles\n",
       "1             1  Spedden, Mrs. Frederic Oakley (Margaretta Corn...\n",
       "2             0                                Windelov, Mr. Einar\n",
       "3             1                             Minahan, Miss. Daisy E\n",
       "4             0                   Wilkes, Mrs. James (Ellen Needs)"
      ]
     },
     "execution_count": 20,
     "metadata": {},
     "output_type": "execute_result"
    }
   ],
   "source": [
    "#code cell 20\n",
    "#apply the model to the testing data and store the result in a pandas dataframe.\n",
    "#Use X_input as the argurment for the predict() method of the clf_train classifier object\n",
    "\n",
    "target_labels = clf_train.predict(X_input)\n",
    "\n",
    "#convert the target array into a pandas dataframe using the pd.DataFrame() method and target as argument\n",
    "target_labels = pd.DataFrame({'Est_Survival':target_labels, 'Name':testing['Name']})\n",
    "\n",
    "#display the first few rows of the data set\n",
    "target_labels.head()"
   ]
  },
  {
   "cell_type": "markdown",
   "id": "133a1c05",
   "metadata": {},
   "source": [
    "#### c) Evalúe la precisión de las etiquetas estimadas\n",
    "\n",
    "La realidad sobre la supervivencia de cada pasajero se encuentra en otro archivo llamado all_data.csv. Para seleccionar únicamente los pasajeros incluidos en el conjunto de datos de prueba, combinamos la estructura de datos target_labels y la estructura de datos all_data del campo Name. Después, comparamos la etiqueta estimada con la estructura de datos real y computamos la precisión del modelo programado.\n"
   ]
  },
  {
   "cell_type": "code",
   "execution_count": 21,
   "id": "17661454",
   "metadata": {},
   "outputs": [],
   "source": [
    "#code cell 21\n",
    "#import the numpy library as np\n",
    "import numpy as np\n",
    "# Load data for all passengers in the variable all_data\n",
    "all_data = pd.read_csv(\"C:/Users/inkar/Analítica de datos en las organizaciones/Data/titanic_all.csv\")\n",
    "# Merging using the field Name as key, selects only the rows of the two datasets that refer to the same passenger\n",
    "testing_results = pd.merge(target_labels, all_data[['Name','Survived']], on=['Name'])\n",
    "\n",
    "# Compute the accuracy as a ratio of matching observations to total osbervations. Store this in in the variable acc.\n",
    "acc = np.sum(testing_results['Est_Survival'] == testing_results['Survived']) / float(len(testing_results))\n",
    "# Print the result"
   ]
  },
  {
   "cell_type": "markdown",
   "id": "10b191c4",
   "metadata": {},
   "source": [
    "### Parte 3: Evaluar el modelo del árbol de decisiones\n",
    "\n",
    "La biblioteca de sklearn incluye un módulo que se puede utilizar para evaluar la precisión del modelo del árbol de decisiones. El método train_test_split() particionará las observaciones del conjunto de datos completo en dos arreglos de observaciones seleccionados de forma aleatoria que conforman los conjuntos de datos de prueba y entrenamiento. Después de ajustar el modelo según los datos de entrenamiento, se podrá calificar el módulo entrenado y se podrá comparar la precisión de predicción tanto para los conjuntos de datos de entrenamiento como para los de prueba. Es recomendable que los dos puntajes sean cercanos, pero la precisión para el conjunto de datos de prueba es, generalmente, más baja que para el conjunto de datos de entrenamiento.\n",
    "#### Paso 1: Importar los datos\n",
    "\n",
    "Esta vez, importaremos los datos desde una archivo csv, pero especificaremos las columnas que deseamos que aparezcan en la estructura de datos. Haremos esto pasando por una lista de nombres de columnas similar a un arreglo hasta el parámetro usecols del método read_csv(). Utilice las siguientes columnas: \"Survived\", \"Fare\", \"Pclass\", \"Gender\", \"Age\" y \"SibSP\". Cada una debe estar entre comillas y la lista debe estar entre corchetes. Coloque el nombre all_data a esta estructura de datos.\n"
   ]
  },
  {
   "cell_type": "code",
   "execution_count": 22,
   "id": "d86acbe8",
   "metadata": {},
   "outputs": [
    {
     "name": "stdout",
     "output_type": "stream",
     "text": [
      "<class 'pandas.core.frame.DataFrame'>\n",
      "RangeIndex: 1308 entries, 0 to 1307\n",
      "Data columns (total 6 columns):\n",
      " #   Column    Non-Null Count  Dtype  \n",
      "---  ------    --------------  -----  \n",
      " 0   Survived  1308 non-null   int64  \n",
      " 1   Pclass    1308 non-null   int64  \n",
      " 2   Gender    1308 non-null   object \n",
      " 3   Age       1045 non-null   float64\n",
      " 4   SibSp     1308 non-null   int64  \n",
      " 5   Fare      1308 non-null   float64\n",
      "dtypes: float64(2), int64(3), object(1)\n",
      "memory usage: 61.4+ KB\n"
     ]
    },
    {
     "data": {
      "text/html": [
       "<div>\n",
       "<style scoped>\n",
       "    .dataframe tbody tr th:only-of-type {\n",
       "        vertical-align: middle;\n",
       "    }\n",
       "\n",
       "    .dataframe tbody tr th {\n",
       "        vertical-align: top;\n",
       "    }\n",
       "\n",
       "    .dataframe thead th {\n",
       "        text-align: right;\n",
       "    }\n",
       "</style>\n",
       "<table border=\"1\" class=\"dataframe\">\n",
       "  <thead>\n",
       "    <tr style=\"text-align: right;\">\n",
       "      <th></th>\n",
       "      <th>Survived</th>\n",
       "      <th>Pclass</th>\n",
       "      <th>Gender</th>\n",
       "      <th>Age</th>\n",
       "      <th>SibSp</th>\n",
       "      <th>Fare</th>\n",
       "    </tr>\n",
       "  </thead>\n",
       "  <tbody>\n",
       "    <tr>\n",
       "      <th>0</th>\n",
       "      <td>1</td>\n",
       "      <td>1</td>\n",
       "      <td>female</td>\n",
       "      <td>29.0000</td>\n",
       "      <td>0</td>\n",
       "      <td>211.3375</td>\n",
       "    </tr>\n",
       "    <tr>\n",
       "      <th>1</th>\n",
       "      <td>1</td>\n",
       "      <td>1</td>\n",
       "      <td>male</td>\n",
       "      <td>0.9167</td>\n",
       "      <td>1</td>\n",
       "      <td>151.5500</td>\n",
       "    </tr>\n",
       "    <tr>\n",
       "      <th>2</th>\n",
       "      <td>0</td>\n",
       "      <td>1</td>\n",
       "      <td>female</td>\n",
       "      <td>2.0000</td>\n",
       "      <td>1</td>\n",
       "      <td>151.5500</td>\n",
       "    </tr>\n",
       "    <tr>\n",
       "      <th>3</th>\n",
       "      <td>0</td>\n",
       "      <td>1</td>\n",
       "      <td>male</td>\n",
       "      <td>30.0000</td>\n",
       "      <td>1</td>\n",
       "      <td>151.5500</td>\n",
       "    </tr>\n",
       "    <tr>\n",
       "      <th>4</th>\n",
       "      <td>0</td>\n",
       "      <td>1</td>\n",
       "      <td>female</td>\n",
       "      <td>25.0000</td>\n",
       "      <td>1</td>\n",
       "      <td>151.5500</td>\n",
       "    </tr>\n",
       "  </tbody>\n",
       "</table>\n",
       "</div>"
      ],
      "text/plain": [
       "   Survived  Pclass  Gender      Age  SibSp      Fare\n",
       "0         1       1  female  29.0000      0  211.3375\n",
       "1         1       1    male   0.9167      1  151.5500\n",
       "2         0       1  female   2.0000      1  151.5500\n",
       "3         0       1    male  30.0000      1  151.5500\n",
       "4         0       1  female  25.0000      1  151.5500"
      ]
     },
     "execution_count": 22,
     "metadata": {},
     "output_type": "execute_result"
    }
   ],
   "source": [
    "#code cell 22\n",
    "#import the titanic_all.csv file into a dataframe called all_data. Specify the list of columns to import.\n",
    "all_data = pd.read_csv(\"C:/Users/inkar/Analítica de datos en las organizaciones/Data/titanic_all.csv\", \n",
    "                       usecols=['Survived','Pclass','Gender','Age','SibSp','Fare'])\n",
    "#View info for the new dataframe\n",
    "all_data.info()\n",
    "all_data.head()"
   ]
  },
  {
   "cell_type": "markdown",
   "id": "68321eb9",
   "metadata": {},
   "source": [
    "¿Cuántos registros hay en el conjunto de datos?\n",
    "\n",
    "1308\n",
    "\n",
    "¿Qué variable(s) importante(s) son valores faltantes y cuántas faltan?\n",
    "\n",
    "La edad, faltan personas que registren su edad y faltan 263\n",
    "#### Paso 2: Explicar los datos.\n",
    "#### a) Elimine las cadenas \"male\" y \"female\" y reemplácelas por 0 y 1 respectivamente."
   ]
  },
  {
   "cell_type": "code",
   "execution_count": 23,
   "id": "4f07a78a",
   "metadata": {},
   "outputs": [],
   "source": [
    "#code cell 23\n",
    "#Label the gender variable with 0 and 1\n",
    "all_data[\"Gender\"] = all_data[\"Gender\"].apply(lambda toLabel: 0 if toLabel == 'male' else 1)"
   ]
  },
  {
   "cell_type": "markdown",
   "id": "d64d45a9",
   "metadata": {},
   "source": [
    "#### c) Reemplace los valores de edad faltantes por el promedio de edad de todos los miembros del conjunto de datos."
   ]
  },
  {
   "cell_type": "code",
   "execution_count": 24,
   "id": "24bac9f2",
   "metadata": {},
   "outputs": [
    {
     "data": {
      "text/html": [
       "<div>\n",
       "<style scoped>\n",
       "    .dataframe tbody tr th:only-of-type {\n",
       "        vertical-align: middle;\n",
       "    }\n",
       "\n",
       "    .dataframe tbody tr th {\n",
       "        vertical-align: top;\n",
       "    }\n",
       "\n",
       "    .dataframe thead th {\n",
       "        text-align: right;\n",
       "    }\n",
       "</style>\n",
       "<table border=\"1\" class=\"dataframe\">\n",
       "  <thead>\n",
       "    <tr style=\"text-align: right;\">\n",
       "      <th></th>\n",
       "      <th>Survived</th>\n",
       "      <th>Pclass</th>\n",
       "      <th>Gender</th>\n",
       "      <th>Age</th>\n",
       "      <th>SibSp</th>\n",
       "      <th>Fare</th>\n",
       "    </tr>\n",
       "  </thead>\n",
       "  <tbody>\n",
       "    <tr>\n",
       "      <th>0</th>\n",
       "      <td>1</td>\n",
       "      <td>1</td>\n",
       "      <td>1</td>\n",
       "      <td>29.0000</td>\n",
       "      <td>0</td>\n",
       "      <td>211.3375</td>\n",
       "    </tr>\n",
       "    <tr>\n",
       "      <th>1</th>\n",
       "      <td>1</td>\n",
       "      <td>1</td>\n",
       "      <td>0</td>\n",
       "      <td>0.9167</td>\n",
       "      <td>1</td>\n",
       "      <td>151.5500</td>\n",
       "    </tr>\n",
       "    <tr>\n",
       "      <th>2</th>\n",
       "      <td>0</td>\n",
       "      <td>1</td>\n",
       "      <td>1</td>\n",
       "      <td>2.0000</td>\n",
       "      <td>1</td>\n",
       "      <td>151.5500</td>\n",
       "    </tr>\n",
       "    <tr>\n",
       "      <th>3</th>\n",
       "      <td>0</td>\n",
       "      <td>1</td>\n",
       "      <td>0</td>\n",
       "      <td>30.0000</td>\n",
       "      <td>1</td>\n",
       "      <td>151.5500</td>\n",
       "    </tr>\n",
       "    <tr>\n",
       "      <th>4</th>\n",
       "      <td>0</td>\n",
       "      <td>1</td>\n",
       "      <td>1</td>\n",
       "      <td>25.0000</td>\n",
       "      <td>1</td>\n",
       "      <td>151.5500</td>\n",
       "    </tr>\n",
       "  </tbody>\n",
       "</table>\n",
       "</div>"
      ],
      "text/plain": [
       "   Survived  Pclass  Gender      Age  SibSp      Fare\n",
       "0         1       1       1  29.0000      0  211.3375\n",
       "1         1       1       0   0.9167      1  151.5500\n",
       "2         0       1       1   2.0000      1  151.5500\n",
       "3         0       1       0  30.0000      1  151.5500\n",
       "4         0       1       1  25.0000      1  151.5500"
      ]
     },
     "execution_count": 24,
     "metadata": {},
     "output_type": "execute_result"
    }
   ],
   "source": [
    "#code cell 24\n",
    "#replace missing Age values with the mean age\n",
    "all_data[\"Age\"].fillna(all_data[\"Age\"].mean(), inplace=True)\n",
    "\n",
    "#display the first few rows of the data set\n",
    "all_data.head()"
   ]
  },
  {
   "cell_type": "markdown",
   "id": "bccfb3b0",
   "metadata": {},
   "source": [
    "#### Paso 2: Crear las variables de entradas y salida para el conjunto de datos de entrenamiento y prueba\n",
    "\n",
    "La biblioteca sklearn incluye módulos que ayudan con la selección del modelo. Importaremos desde sklearn.model_selection el método train_test_split(). Este método dividirá automáticamente el conjunto de datos completo y devolverá un total de cuatro arreglos numpy, dos para las características (prueba y validación) y dos para las etiquetas (prueba y validación). Un parámetro del método especifica la proporción de observaciones que se utilizarán para la prueba y el entrenamiento. Otro parámetro especifica un valor semilla que se utilizará para seleccionar de forma aleatoria la asignación de la observación para la prueba o el entrenamiento. Esto se utiliza para que otro usuario pueda replicar su trabajo al recibir las mismas asignaciones de observaciones para los conjuntos de datos. La sintaxis del método es la siguiente:\n",
    "```train_test_split(input_X, target_y, test_size=0.4, random_state=0)```\n",
    "\n",
    "El 40 % de los datos se utilizará para pruebas. El valor semilla aleatorio está configurado en 0.\n",
    "#### a) Designe las variables de entrada y las variables de salida y genere arreglos.¶\n"
   ]
  },
  {
   "cell_type": "code",
   "execution_count": 25,
   "id": "27e11622",
   "metadata": {},
   "outputs": [],
   "source": [
    "#code cell 25\n",
    "#Import train_test_split() from the sklearn.model_selection libary \n",
    "from sklearn.model_selection import train_test_split\n",
    "\n",
    "#create the input and target variables as uppercase X and lowercase y. Reuse the columns variable.\n",
    "X = all_data[list(columns)].values\n",
    "y = all_data[\"Survived\"].values\n",
    "\n",
    "#generate the four testing and training data arrays with the train_test_split() method\n",
    "X_train,X_test,y_train,y_test=train_test_split(X, y, test_size=0.40, random_state=0)"
   ]
  },
  {
   "cell_type": "code",
   "execution_count": 26,
   "id": "e5044354",
   "metadata": {},
   "outputs": [
    {
     "data": {
      "text/plain": [
       "numpy.ndarray"
      ]
     },
     "execution_count": 26,
     "metadata": {},
     "output_type": "execute_result"
    }
   ],
   "source": [
    "type(X_train)"
   ]
  },
  {
   "cell_type": "markdown",
   "id": "4fecee36",
   "metadata": {},
   "source": [
    "#### b) Entrene el modelo y adáptelo a los datos de prueba.\n",
    "\n",
    "Ahora el modelo se puede adaptar nuevamente. El modelo se entrenará solo con los datos de entrenamiento, según seleccionó la función train_test_split.\n"
   ]
  },
  {
   "cell_type": "code",
   "execution_count": 27,
   "id": "d2e03605",
   "metadata": {},
   "outputs": [],
   "source": [
    "#code cell 26\n",
    "#create the training decision tree object\n",
    "clf_train = tree.DecisionTreeClassifier(criterion=\"entropy\", max_depth=3)\n",
    "\n",
    "#fit the training model using the input and target variables\n",
    "clf_train = clf_train.fit(X_train, y_train)"
   ]
  },
  {
   "cell_type": "markdown",
   "id": "f556e09a",
   "metadata": {},
   "source": [
    "#### c) Compare modelos mediante la calificación de cada uno de ellos.\n",
    "\n",
    "Siga el método score() de cada objeto del árbol de decisiones para generar puntajes.\n"
   ]
  },
  {
   "cell_type": "code",
   "execution_count": 28,
   "id": "97cf8922",
   "metadata": {},
   "outputs": [
    {
     "name": "stdout",
     "output_type": "stream",
     "text": [
      "Training score = 0.8201530612244898 Testing score = 0.8053435114503816\n"
     ]
    }
   ],
   "source": [
    "#code cell 27\n",
    "#score the model on the two datasets and store the scores in variables. Convert the scores to strings using str()\n",
    "train_score = str(clf_train.score(X_train,y_train))\n",
    "test_score = str(clf_train.score(X_test,y_test))\n",
    "\n",
    "#output the values in a test string\n",
    "print('Training score = '+ train_score+' Testing score = '+test_score)"
   ]
  },
  {
   "cell_type": "markdown",
   "id": "d540ebac",
   "metadata": {},
   "source": [
    "Ahora, hemos comparado los puntajes para el modelo entrenado en ambos datos de prueba y validación. Tal como se previó, el puntaje de precisión de prueba está cerca, pero es menor que el puntaje de los datos de entrenamiento. Esto se debe a que, normalmente, el modelo tiende sobreadaptarse a los datos de entrenamiento y, por lo tanto, el puntaje de prueba representa una mejor evaluación de cómo el modelo puede generalizar fuera de los datos de entrenamiento.\n",
    "## Parte 4 para estudio adicional (opcional)\n",
    "\n",
    "Si tiene tiempo y le interesa, puede intentar lo siguiente y ver cómo el árbol de decisiones se ve afectado.\n",
    "### 1. Eliminar las observaciones con valores de edad faltantes\n",
    "\n",
    "El uso de un promedio para reemplazar los valores de edad faltantes puede afectar la precisión del modelo. Una solución para esto puede ser eliminar todas las observaciones con valores de edad faltantes. Si bien esto reducirá el tamaño del conjunto de datos de entrenamiento, podría mejorar la precisión.\n",
    "### 2. Eliminar las variables de entrada\n",
    "\n",
    "Otro problema con este tipo de análisis es la identificación de las variables de entrada, o las funciones, que son esenciales para la precisión del clasificador. Una forma de hacerlo es intentar ejecutar el clasificador para distintos grupos de variables de entrada editando la lista de variables que se utiliza para adaptar el modelo.\n"
   ]
  },
  {
   "cell_type": "code",
   "execution_count": null,
   "id": "ec99ebbd",
   "metadata": {},
   "outputs": [],
   "source": []
  }
 ],
 "metadata": {
  "kernelspec": {
   "display_name": "Python 3 (ipykernel)",
   "language": "python",
   "name": "python3"
  },
  "language_info": {
   "codemirror_mode": {
    "name": "ipython",
    "version": 3
   },
   "file_extension": ".py",
   "mimetype": "text/x-python",
   "name": "python",
   "nbconvert_exporter": "python",
   "pygments_lexer": "ipython3",
   "version": "3.9.12"
  }
 },
 "nbformat": 4,
 "nbformat_minor": 5
}
